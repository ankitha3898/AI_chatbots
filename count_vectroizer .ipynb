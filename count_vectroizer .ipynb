{
 "cells": [
  {
   "cell_type": "code",
   "execution_count": 1,
   "id": "19aa22ed",
   "metadata": {},
   "outputs": [
    {
     "data": {
      "text/plain": [
       "True"
      ]
     },
     "execution_count": 1,
     "metadata": {},
     "output_type": "execute_result"
    }
   ],
   "source": [
    "import json\n",
    "import pandas as pd\n",
    "import io\n",
    "import random\n",
    "import string # to process standard python strings\n",
    "import warnings\n",
    "import numpy as np\n",
    "from sklearn.feature_extraction.text import TfidfVectorizer\n",
    "from sklearn.metrics.pairwise import cosine_similarity\n",
    "import warnings\n",
    "warnings.filterwarnings('ignore')\n",
    "import re\n",
    "from textblob import TextBlob\n",
    "\n",
    "import nltk\n",
    "from nltk.stem import WordNetLemmatizer\n",
    "nltk.download('popular', quiet=True) \n"
   ]
  },
  {
   "cell_type": "code",
   "execution_count": 2,
   "id": "48e1bf21",
   "metadata": {},
   "outputs": [],
   "source": [
    "answers_dataset=pd.read_csv('answers_dataframe.csv')"
   ]
  },
  {
   "cell_type": "code",
   "execution_count": 3,
   "id": "ecbd34af",
   "metadata": {},
   "outputs": [],
   "source": [
    "answers_dataset1=answers_dataset['patterns']"
   ]
  },
  {
   "cell_type": "code",
   "execution_count": 4,
   "id": "08cc2442",
   "metadata": {},
   "outputs": [],
   "source": [
    "len1=len(answers_dataset)"
   ]
  },
  {
   "cell_type": "code",
   "execution_count": null,
   "id": "07227e0d",
   "metadata": {},
   "outputs": [],
   "source": [
    "def res(ans):\n",
    "    answers_dataset1[len1]=ans\n",
    "    text = [ps.stem(word) for word in title if word not in nltk.corpus.stopwords.words('english')]"
   ]
  }
 ],
 "metadata": {
  "kernelspec": {
   "display_name": "Python 3 (ipykernel)",
   "language": "python",
   "name": "python3"
  },
  "language_info": {
   "codemirror_mode": {
    "name": "ipython",
    "version": 3
   },
   "file_extension": ".py",
   "mimetype": "text/x-python",
   "name": "python",
   "nbconvert_exporter": "python",
   "pygments_lexer": "ipython3",
   "version": "3.9.7"
  }
 },
 "nbformat": 4,
 "nbformat_minor": 5
}
