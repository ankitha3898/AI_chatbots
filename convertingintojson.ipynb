{
 "cells": [
  {
   "cell_type": "code",
   "execution_count": 4,
   "id": "82f1d26d",
   "metadata": {},
   "outputs": [],
   "source": [
    "import json\n",
    "  \n",
    "  \n",
    "# the file to be converted to \n",
    "# json format\n",
    "filename = 'pandas1.txt'\n",
    "  \n",
    "# dictionary where the lines from\n",
    "# text will be stored\n",
    "res=[]  \n",
    "# creating dictionary\n",
    "with open(filename) as fh:\n",
    "  \n",
    "    for i,line in enumerate(fh):\n",
    "        line1=line.split(',')\n",
    "       # print(line1[0])\n",
    "        dict1 = {}\n",
    "        dict1['questions']=line\n",
    "        dict1['id']=i\n",
    "        dict1['symptom']=line1[0]\n",
    "        res.append(dict1)\n",
    "        \n",
    "        \n",
    "        \n",
    "  \n",
    "   "
   ]
  },
  {
   "cell_type": "code",
   "execution_count": 5,
   "id": "94e8228f",
   "metadata": {},
   "outputs": [],
   "source": [
    "with open('question1_json.json', 'w') as outfile:\n",
    "    json.dump(res, outfile)"
   ]
  },
  {
   "cell_type": "code",
   "execution_count": 6,
   "id": "c8ebcc06",
   "metadata": {},
   "outputs": [
    {
     "name": "stdout",
     "output_type": "stream",
     "text": [
      "[{\"questions\": \"Blood Pressure,When did you last check your Blood Pressure ,OK. Have you ever had your cholestrol levels checked?,Have you ever had your blood glucose levels checked?,How would describe your activity level?,Do you smoke ?,Do you drink?,Have you had any of the following symptoms in the past 30 days?,Did you undergo any of the tests or procedures listed below?\\n\", \"id\": 0, \"symptom\": \"Blood Pressure\"}, {\"questions\": \"Fever,Since how long you have fever?,What was the maximum temperature recorded?,How was the onset of fever?,Is the fever continous or intermittent?,Are you experiencing any of the following symptoms?,Are you facing any other medical symptoms\\n\", \"id\": 1, \"symptom\": \"Fever\"}, {\"questions\": \"Rapid Heart Rate,Since when are you experiencing this symptom?,Can you describe how your heart beat feels to you?,Have you measured your heart rate?,How long does this condition last?,When do you experience irregular/fast heart beat?,Do you have any of the following symptoms?\\n\", \"id\": 2, \"symptom\": \"Rapid Heart Rate\"}, {\"questions\": \"sleep walk,where are you staying?,which place do you like more,select a food type ?\\n\", \"id\": 3, \"symptom\": \"sleep walk\"}, {\"questions\": \"Prenantal Symptoms,Do you remember the date of the day your last menstrual period started? (Answer - Yes/No),Did you observe anything abnormal about your last period?,Do you have irregular periods?,If your periods are regular, what is the duration (in days) of the menstrual cycle? ,Do you have any of the following symptoms since the last menstrual period? (Choose one or more options that are applicable),Is this your first pregnancy?,Do you have any existing/ previous neurological conditions?,Do you have any existing/ previous Psycho Social conditions?,Do you have any existing/previous Endocrine related conditions?,Do you have any existing/ previous Respiratory conditions?,Do you have any existing/previous conditions of circulatory system?,Do you have any existing/previous blood disorders?,Do you have or previously had breast related disorders?,Do you have or previously had Genito-urinary conditions?,Do you have or previously had any conditions related to Gastrointestinal (GI)system?,Do you have or previously had any autoimmune diseases?,Have you had any other infections?,Have you had a Cesarean section previously?,Have you had a Cervical laser ablation previously?,Have you had a Conization previously?,Have you had a LEEP procedure previously?,Have you had a Breast Augmentation/Gynecological surgical procedure previously?,Have you had a Cervical cryo-cauterization previously?,Have you had a reconstruction procedure previously?,Were you taking birth control at the time of conception?,Did you take birth control pills before becoming pregnant?,When did you stop taking them (month/day/year):,Were you breastfeeding at the time of conception?,Have you had chicken pox or been vaccinated against Varicella?,Have you ever received the Hepatitis B vaccine?,When did you receive your last tetanus vaccine (Tdap):,Do you object to Hepatitis B. testing, if advised to do so?,Do you object to HIV testing, if advised to do so?\\n\", \"id\": 4, \"symptom\": \"Prenantal Symptoms\"}, {\"questions\": \"Cough,When did your cough start?,Can you describe your cough?,What is the quality of your cough?,When does occur?,When is it more severe?,Does your cough bring up mucus?,Do you have any allergies or anything that triggers cough? Please specify,Do you have any other respiratory symptoms?,I need some more information from you . Have you been in close contact with people with any respiratory infections such as common cold, tuberculosis, pneumonia or whooping cough?,Do you smoke?\\n\", \"id\": 5, \"symptom\": \"Cough\"}, {\"questions\": \"I do not feel good,Are you going through a difficult time?,Since how long have you had this feeling?,What is bothering you the most?\\n\", \"id\": 6, \"symptom\": \"I do not feel good\"}, {\"questions\": \" Pain,When did your problem start?,Can you describe the location of your pain ,On a scale of 1 to 5, how would you rate the intensity of your pain ? 1 being mild and 5 being most sever,Can you describe the equality of your pain ,How did your pain start or intensify?,Is the pain relieved by any of the following ?,Have you noticed any change in your apetite,How is your bowel movement ?,Are you experiencing any of the following symptoms relating to your bowel movement?,Is your  pain accompanied with any of the following?,Are you having any other  symptoms?\\n\", \"id\": 7, \"symptom\": \" Pain\"}, {\"questions\": \" Pain,Are you experiencing  pain right now?,How did your  pain start?,Can you describe the location of the pain?,Is your pain radiating anywhere?,How would you best describe the pain,On a scale of 1-5, how severe you do rate your pain?,Is your  pain accompanied by any of the following symptoms,How long does the  pain last?,Is this a sudden and new onset of pain or is it a recurring condition?,What makes your pain worse?,How is your  pain relieved?\\n\", \"id\": 8, \"symptom\": \" Pain\"}, {\"questions\": \"General Cardilogy,Did you have any of these symptoms in the last 30 days or anytime in the  past?,Did you undergo any of the tests or procedures listed below?,Are you currently following or have previously followed any special diets or meal plans?,Do you exercise on a regular basis?,Please specify if any of your immediate family members were diagnosed with health issues or have unhealthy habits?\\n\", \"id\": 9, \"symptom\": \"General Cardilogy\"}, {\"questions\": \"Sleep  Disorders,What is it that bothers you the most with your sleep?,Have you experienced any of the following ,Do you snore?,How many hours of sleep do you get at night, not including the hours you spend awake in your bed?,How many times do you get up to urinate at night?,How many times do you drink coffe/cola in a day?,Have you gained or lost weight recently?,Do you smoke?,Do you drink?\\n\", \"id\": 10, \"symptom\": \"Sleep  Disorders\"}, {\"questions\": \"Diabetic,Are you a care-giver to a person living with diabetes or do you have diabetes?,Select Type of Diabetes?,Please Mention Year of Diagnosis?,Any Other medical conditions?,Any known allergies?,Add Family History?,Add Current Medications?,When did you conduct your last medical tests?,Add Diabetes related details - last HBA1C?,Add Diabetes related details - Blood sugar range?,Select Diabetes related details - Frequency of Hypoglycaemia?,Select Diabetes related details - Frequency of Hyperglycaemia?,Are you hypo-sensitive?,Please Regular diet plan?,Are you currently on the basal-bolus regime?,Are you on a fixed insulin dose?,What is your knowledge of diabetes management?,Do you use a CGM (continuous glucose monitoring)?,If you use a glucometer , how many times a day do you measure your blood sugar levels?,Do you use an insulin pump?,Do you know how to count carbs?,What are your concerns related to diabetes management? ,What are your goals with relation to diabetes management and how can we help?,What are your overall expectations from this program? \\n\", \"id\": 11, \"symptom\": \"Diabetic\"}, {\"questions\": \"cold,how long you are having this symptom?,What was the maximum temperature recorded?,do you have Sneezing?,do you have any other symptoms?\\n\", \"id\": 12, \"symptom\": \"cold\"}, {\"questions\": \"Depression,Since when have you been experiencing this?,Do you know how this condition started ? Was the onset related to any particular situation?,In answering these questions, think about how you have felt over the last two weeks. When are you most likely to experience these symptoms?,Please answer Yes or No to the next few questions. My depression interferes with my daily activities,I feel pessimistic or hopeless about the future,I have little or no interest in doing things,I cry a lot,I find myself brooding about my past,I eat less or more than I used to,I sleep less,I sleep more,I have persistent worry I cannot get rid of,Have you tried any techniques of relaxation or meditation?,Have you ever felt like committing suicide?,Do you smoke?,Do you drink?,Have you gained or lost weight recently,How is your depression relieved?\\n\", \"id\": 13, \"symptom\": \"Depression\"}, {\"questions\": \"Diarrhea,Since how long have you had diarrhea?,Would you say you have a painful diarrhea?,What is the frequency of your bowel movement ?,Can you describe your diarrhea?,When does it usually occur,On a scale of 1-5, how severe is your diahhrea , 1 being least severe ,Have you noticed any change in your apetite,Are you having any of the following  symtoms ?\\n\", \"id\": 14, \"symptom\": \"Diarrhea\"}, {\"questions\": \"Anxiety,Since when have you been experiencing anxiety?,Do you know how this condition started? ,In answering these questions, think about how you have felt over the last two weeks. Have you been anxious, nervous or felt over the edge in the past two weeks?,How would you describe your anxiety ?,Does your anxiety interfere with your regular actvities?,Do you feel you are easily irritable or get annoyed?,Do you have uncontrollable and persisitent worry?,Do you have any of these physical symptoms?,Are you able to relieve your anxiety?,What else is bothering you?,Do you smoke?,Do you drink?\\n\", \"id\": 15, \"symptom\": \"Anxiety\"}]\n"
     ]
    }
   ],
   "source": [
    "print(json.dumps(res))\n"
   ]
  },
  {
   "cell_type": "code",
   "execution_count": null,
   "id": "4af67f82",
   "metadata": {},
   "outputs": [],
   "source": []
  },
  {
   "cell_type": "code",
   "execution_count": 1,
   "id": "b7a95bc1",
   "metadata": {},
   "outputs": [
    {
     "name": "stdout",
     "output_type": "stream",
     "text": [
      "[{'questions': 'Blood Pressure,When did you last check your Blood Pressure ,OK. Have you ever had your cholestrol levels checked?,Have you ever had your blood glucose levels checked?,How would describe your activity level?,Do you smoke ?,Do you drink?,Have you had any of the following symptoms in the past 30 days?,Did you undergo any of the tests or procedures listed below?\\n', 'id': 0, 'symptom': 'Blood Pressure'}, {'questions': 'Fever,Since how long you have fever?,What was the maximum temperature recorded?,How was the onset of fever?,Is the fever continous or intermittent?,Are you experiencing any of the following symptoms?,Are you facing any other medical symptoms\\n', 'id': 1, 'symptom': 'Fever'}, {'questions': 'Rapid Heart Rate,Since when are you experiencing this symptom?,Can you describe how your heart beat feels to you?,Have you measured your heart rate?,How long does this condition last?,When do you experience irregular/fast heart beat?,Do you have any of the following symptoms?\\n', 'id': 2, 'symptom': 'Rapid Heart Rate'}, {'questions': 'sleep walk,where are you staying?,which place do you like more,select a food type ?\\n', 'id': 3, 'symptom': 'sleep walk'}, {'questions': 'Prenantal Symptoms,Do you remember the date of the day your last menstrual period started? (Answer - Yes/No),Did you observe anything abnormal about your last period?,Do you have irregular periods?,If your periods are regular, what is the duration (in days) of the menstrual cycle? ,Do you have any of the following symptoms since the last menstrual period? (Choose one or more options that are applicable),Is this your first pregnancy?,Do you have any existing/ previous neurological conditions?,Do you have any existing/ previous Psycho Social conditions?,Do you have any existing/previous Endocrine related conditions?,Do you have any existing/ previous Respiratory conditions?,Do you have any existing/previous conditions of circulatory system?,Do you have any existing/previous blood disorders?,Do you have or previously had breast related disorders?,Do you have or previously had Genito-urinary conditions?,Do you have or previously had any conditions related to Gastrointestinal (GI)system?,Do you have or previously had any autoimmune diseases?,Have you had any other infections?,Have you had a Cesarean section previously?,Have you had a Cervical laser ablation previously?,Have you had a Conization previously?,Have you had a LEEP procedure previously?,Have you had a Breast Augmentation/Gynecological surgical procedure previously?,Have you had a Cervical cryo-cauterization previously?,Have you had a reconstruction procedure previously?,Were you taking birth control at the time of conception?,Did you take birth control pills before becoming pregnant?,When did you stop taking them (month/day/year):,Were you breastfeeding at the time of conception?,Have you had chicken pox or been vaccinated against Varicella?,Have you ever received the Hepatitis B vaccine?,When did you receive your last tetanus vaccine (Tdap):,Do you object to Hepatitis B. testing, if advised to do so?,Do you object to HIV testing, if advised to do so?\\n', 'id': 4, 'symptom': 'Prenantal Symptoms'}, {'questions': 'Cough,When did your cough start?,Can you describe your cough?,What is the quality of your cough?,When does occur?,When is it more severe?,Does your cough bring up mucus?,Do you have any allergies or anything that triggers cough? Please specify,Do you have any other respiratory symptoms?,I need some more information from you . Have you been in close contact with people with any respiratory infections such as common cold, tuberculosis, pneumonia or whooping cough?,Do you smoke?\\n', 'id': 5, 'symptom': 'Cough'}, {'questions': 'I do not feel good,Are you going through a difficult time?,Since how long have you had this feeling?,What is bothering you the most?\\n', 'id': 6, 'symptom': 'I do not feel good'}, {'questions': ' Pain,When did your problem start?,Can you describe the location of your pain ,On a scale of 1 to 5, how would you rate the intensity of your pain ? 1 being mild and 5 being most sever,Can you describe the equality of your pain ,How did your pain start or intensify?,Is the pain relieved by any of the following ?,Have you noticed any change in your apetite,How is your bowel movement ?,Are you experiencing any of the following symptoms relating to your bowel movement?,Is your  pain accompanied with any of the following?,Are you having any other  symptoms?\\n', 'id': 7, 'symptom': ' Pain'}, {'questions': ' Pain,Are you experiencing  pain right now?,How did your  pain start?,Can you describe the location of the pain?,Is your pain radiating anywhere?,How would you best describe the pain,On a scale of 1-5, how severe you do rate your pain?,Is your  pain accompanied by any of the following symptoms,How long does the  pain last?,Is this a sudden and new onset of pain or is it a recurring condition?,What makes your pain worse?,How is your  pain relieved?\\n', 'id': 8, 'symptom': ' Pain'}, {'questions': 'General Cardilogy,Did you have any of these symptoms in the last 30 days or anytime in the  past?,Did you undergo any of the tests or procedures listed below?,Are you currently following or have previously followed any special diets or meal plans?,Do you exercise on a regular basis?,Please specify if any of your immediate family members were diagnosed with health issues or have unhealthy habits?\\n', 'id': 9, 'symptom': 'General Cardilogy'}, {'questions': 'Sleep  Disorders,What is it that bothers you the most with your sleep?,Have you experienced any of the following ,Do you snore?,How many hours of sleep do you get at night, not including the hours you spend awake in your bed?,How many times do you get up to urinate at night?,How many times do you drink coffe/cola in a day?,Have you gained or lost weight recently?,Do you smoke?,Do you drink?\\n', 'id': 10, 'symptom': 'Sleep  Disorders'}, {'questions': 'Diabetic,Are you a care-giver to a person living with diabetes or do you have diabetes?,Select Type of Diabetes?,Please Mention Year of Diagnosis?,Any Other medical conditions?,Any known allergies?,Add Family History?,Add Current Medications?,When did you conduct your last medical tests?,Add Diabetes related details - last HBA1C?,Add Diabetes related details - Blood sugar range?,Select Diabetes related details - Frequency of Hypoglycaemia?,Select Diabetes related details - Frequency of Hyperglycaemia?,Are you hypo-sensitive?,Please Regular diet plan?,Are you currently on the basal-bolus regime?,Are you on a fixed insulin dose?,What is your knowledge of diabetes management?,Do you use a CGM (continuous glucose monitoring)?,If you use a glucometer , how many times a day do you measure your blood sugar levels?,Do you use an insulin pump?,Do you know how to count carbs?,What are your concerns related to diabetes management? ,What are your goals with relation to diabetes management and how can we help?,What are your overall expectations from this program? \\n', 'id': 11, 'symptom': 'Diabetic'}, {'questions': 'cold,how long you are having this symptom?,What was the maximum temperature recorded?,do you have Sneezing?,do you have any other symptoms?\\n', 'id': 12, 'symptom': 'cold'}, {'questions': 'Depression,Since when have you been experiencing this?,Do you know how this condition started ? Was the onset related to any particular situation?,In answering these questions, think about how you have felt over the last two weeks. When are you most likely to experience these symptoms?,Please answer Yes or No to the next few questions. My depression interferes with my daily activities,I feel pessimistic or hopeless about the future,I have little or no interest in doing things,I cry a lot,I find myself brooding about my past,I eat less or more than I used to,I sleep less,I sleep more,I have persistent worry I cannot get rid of,Have you tried any techniques of relaxation or meditation?,Have you ever felt like committing suicide?,Do you smoke?,Do you drink?,Have you gained or lost weight recently,How is your depression relieved?\\n', 'id': 13, 'symptom': 'Depression'}, {'questions': 'Diarrhea,Since how long have you had diarrhea?,Would you say you have a painful diarrhea?,What is the frequency of your bowel movement ?,Can you describe your diarrhea?,When does it usually occur,On a scale of 1-5, how severe is your diahhrea , 1 being least severe ,Have you noticed any change in your apetite,Are you having any of the following  symtoms ?\\n', 'id': 14, 'symptom': 'Diarrhea'}, {'questions': 'Anxiety,Since when have you been experiencing anxiety?,Do you know how this condition started? ,In answering these questions, think about how you have felt over the last two weeks. Have you been anxious, nervous or felt over the edge in the past two weeks?,How would you describe your anxiety ?,Does your anxiety interfere with your regular actvities?,Do you feel you are easily irritable or get annoyed?,Do you have uncontrollable and persisitent worry?,Do you have any of these physical symptoms?,Are you able to relieve your anxiety?,What else is bothering you?,Do you smoke?,Do you drink?\\n', 'id': 15, 'symptom': 'Anxiety'}]\n",
      "<class 'list'>\n",
      "[{'questions': 'Blood Pressure,When did you last check your Blood Pressure ,OK. Have you ever had your cholestrol levels checked?,Have you ever had your blood glucose levels checked?,How would describe your activity level?,Do you smoke ?,Do you drink?,Have you had any of the following symptoms in the past 30 days?,Did you undergo any of the tests or procedures listed below?\\n', 'id': 0, 'symptom': 'Blood Pressure'}, {'questions': 'Fever,Since how long you have fever?,What was the maximum temperature recorded?,How was the onset of fever?,Is the fever continous or intermittent?,Are you experiencing any of the following symptoms?,Are you facing any other medical symptoms\\n', 'id': 1, 'symptom': 'Fever'}, {'questions': 'Rapid Heart Rate,Since when are you experiencing this symptom?,Can you describe how your heart beat feels to you?,Have you measured your heart rate?,How long does this condition last?,When do you experience irregular/fast heart beat?,Do you have any of the following symptoms?\\n', 'id': 2, 'symptom': 'Rapid Heart Rate'}, {'questions': 'sleep walk,where are you staying?,which place do you like more,select a food type ?\\n', 'id': 3, 'symptom': 'sleep walk'}, {'questions': 'Prenantal Symptoms,Do you remember the date of the day your last menstrual period started? (Answer - Yes/No),Did you observe anything abnormal about your last period?,Do you have irregular periods?,If your periods are regular, what is the duration (in days) of the menstrual cycle? ,Do you have any of the following symptoms since the last menstrual period? (Choose one or more options that are applicable),Is this your first pregnancy?,Do you have any existing/ previous neurological conditions?,Do you have any existing/ previous Psycho Social conditions?,Do you have any existing/previous Endocrine related conditions?,Do you have any existing/ previous Respiratory conditions?,Do you have any existing/previous conditions of circulatory system?,Do you have any existing/previous blood disorders?,Do you have or previously had breast related disorders?,Do you have or previously had Genito-urinary conditions?,Do you have or previously had any conditions related to Gastrointestinal (GI)system?,Do you have or previously had any autoimmune diseases?,Have you had any other infections?,Have you had a Cesarean section previously?,Have you had a Cervical laser ablation previously?,Have you had a Conization previously?,Have you had a LEEP procedure previously?,Have you had a Breast Augmentation/Gynecological surgical procedure previously?,Have you had a Cervical cryo-cauterization previously?,Have you had a reconstruction procedure previously?,Were you taking birth control at the time of conception?,Did you take birth control pills before becoming pregnant?,When did you stop taking them (month/day/year):,Were you breastfeeding at the time of conception?,Have you had chicken pox or been vaccinated against Varicella?,Have you ever received the Hepatitis B vaccine?,When did you receive your last tetanus vaccine (Tdap):,Do you object to Hepatitis B. testing, if advised to do so?,Do you object to HIV testing, if advised to do so?\\n', 'id': 4, 'symptom': 'Prenantal Symptoms'}, {'questions': 'Cough,When did your cough start?,Can you describe your cough?,What is the quality of your cough?,When does occur?,When is it more severe?,Does your cough bring up mucus?,Do you have any allergies or anything that triggers cough? Please specify,Do you have any other respiratory symptoms?,I need some more information from you . Have you been in close contact with people with any respiratory infections such as common cold, tuberculosis, pneumonia or whooping cough?,Do you smoke?\\n', 'id': 5, 'symptom': 'Cough'}, {'questions': 'I do not feel good,Are you going through a difficult time?,Since how long have you had this feeling?,What is bothering you the most?\\n', 'id': 6, 'symptom': 'I do not feel good'}, {'questions': ' Pain,When did your problem start?,Can you describe the location of your pain ,On a scale of 1 to 5, how would you rate the intensity of your pain ? 1 being mild and 5 being most sever,Can you describe the equality of your pain ,How did your pain start or intensify?,Is the pain relieved by any of the following ?,Have you noticed any change in your apetite,How is your bowel movement ?,Are you experiencing any of the following symptoms relating to your bowel movement?,Is your  pain accompanied with any of the following?,Are you having any other  symptoms?\\n', 'id': 7, 'symptom': ' Pain'}, {'questions': ' Pain,Are you experiencing  pain right now?,How did your  pain start?,Can you describe the location of the pain?,Is your pain radiating anywhere?,How would you best describe the pain,On a scale of 1-5, how severe you do rate your pain?,Is your  pain accompanied by any of the following symptoms,How long does the  pain last?,Is this a sudden and new onset of pain or is it a recurring condition?,What makes your pain worse?,How is your  pain relieved?\\n', 'id': 8, 'symptom': ' Pain'}, {'questions': 'General Cardilogy,Did you have any of these symptoms in the last 30 days or anytime in the  past?,Did you undergo any of the tests or procedures listed below?,Are you currently following or have previously followed any special diets or meal plans?,Do you exercise on a regular basis?,Please specify if any of your immediate family members were diagnosed with health issues or have unhealthy habits?\\n', 'id': 9, 'symptom': 'General Cardilogy'}, {'questions': 'Sleep  Disorders,What is it that bothers you the most with your sleep?,Have you experienced any of the following ,Do you snore?,How many hours of sleep do you get at night, not including the hours you spend awake in your bed?,How many times do you get up to urinate at night?,How many times do you drink coffe/cola in a day?,Have you gained or lost weight recently?,Do you smoke?,Do you drink?\\n', 'id': 10, 'symptom': 'Sleep  Disorders'}, {'questions': 'Diabetic,Are you a care-giver to a person living with diabetes or do you have diabetes?,Select Type of Diabetes?,Please Mention Year of Diagnosis?,Any Other medical conditions?,Any known allergies?,Add Family History?,Add Current Medications?,When did you conduct your last medical tests?,Add Diabetes related details - last HBA1C?,Add Diabetes related details - Blood sugar range?,Select Diabetes related details - Frequency of Hypoglycaemia?,Select Diabetes related details - Frequency of Hyperglycaemia?,Are you hypo-sensitive?,Please Regular diet plan?,Are you currently on the basal-bolus regime?,Are you on a fixed insulin dose?,What is your knowledge of diabetes management?,Do you use a CGM (continuous glucose monitoring)?,If you use a glucometer , how many times a day do you measure your blood sugar levels?,Do you use an insulin pump?,Do you know how to count carbs?,What are your concerns related to diabetes management? ,What are your goals with relation to diabetes management and how can we help?,What are your overall expectations from this program? \\n', 'id': 11, 'symptom': 'Diabetic'}, {'questions': 'cold,how long you are having this symptom?,What was the maximum temperature recorded?,do you have Sneezing?,do you have any other symptoms?\\n', 'id': 12, 'symptom': 'cold'}, {'questions': 'Depression,Since when have you been experiencing this?,Do you know how this condition started ? Was the onset related to any particular situation?,In answering these questions, think about how you have felt over the last two weeks. When are you most likely to experience these symptoms?,Please answer Yes or No to the next few questions. My depression interferes with my daily activities,I feel pessimistic or hopeless about the future,I have little or no interest in doing things,I cry a lot,I find myself brooding about my past,I eat less or more than I used to,I sleep less,I sleep more,I have persistent worry I cannot get rid of,Have you tried any techniques of relaxation or meditation?,Have you ever felt like committing suicide?,Do you smoke?,Do you drink?,Have you gained or lost weight recently,How is your depression relieved?\\n', 'id': 13, 'symptom': 'Depression'}, {'questions': 'Diarrhea,Since how long have you had diarrhea?,Would you say you have a painful diarrhea?,What is the frequency of your bowel movement ?,Can you describe your diarrhea?,When does it usually occur,On a scale of 1-5, how severe is your diahhrea , 1 being least severe ,Have you noticed any change in your apetite,Are you having any of the following  symtoms ?\\n', 'id': 14, 'symptom': 'Diarrhea'}, {'questions': 'Anxiety,Since when have you been experiencing anxiety?,Do you know how this condition started? ,In answering these questions, think about how you have felt over the last two weeks. Have you been anxious, nervous or felt over the edge in the past two weeks?,How would you describe your anxiety ?,Does your anxiety interfere with your regular actvities?,Do you feel you are easily irritable or get annoyed?,Do you have uncontrollable and persisitent worry?,Do you have any of these physical symptoms?,Are you able to relieve your anxiety?,What else is bothering you?,Do you smoke?,Do you drink?\\n', 'id': 15, 'symptom': 'Anxiety'}, {'Name': 'Person_3', 'Age': 33, 'Email': '33@gmail.com'}]\n",
      "Successfully appended to the JSON file\n"
     ]
    }
   ],
   "source": [
    "import json\n",
    "from os import path\n",
    " \n",
    "filename = 'question1_json.json'\n",
    "listObj = []\n",
    " \n",
    "# Check if file exists\n",
    "if path.isfile(filename) is False:\n",
    "  raise Exception(\"File not found\")\n",
    " \n",
    "# Read JSON file\n",
    "with open(filename) as fp:\n",
    "  listObj = json.load(fp)\n",
    " \n",
    "# Verify existing list\n",
    "print(listObj)\n",
    "\n",
    "print(type(listObj))\n",
    " \n",
    "listObj.append({\n",
    "  \"Name\": \"Person_3\",\n",
    "  \"Age\": 33,\n",
    "  \"Email\": \"33@gmail.com\"\n",
    "})\n",
    " \n",
    "# Verify updated list\n",
    "print(listObj)\n",
    " \n",
    "with open(filename, 'w') as json_file:\n",
    "    json.dump(listObj, json_file, \n",
    "                        indent=4,  \n",
    "                        separators=(',',': '))\n",
    " \n",
    "print('Successfully appended to the JSON file')\n"
   ]
  },
  {
   "cell_type": "code",
   "execution_count": null,
   "id": "62a56340",
   "metadata": {},
   "outputs": [],
   "source": []
  }
 ],
 "metadata": {
  "kernelspec": {
   "display_name": "Python 3 (ipykernel)",
   "language": "python",
   "name": "python3"
  },
  "language_info": {
   "codemirror_mode": {
    "name": "ipython",
    "version": 3
   },
   "file_extension": ".py",
   "mimetype": "text/x-python",
   "name": "python",
   "nbconvert_exporter": "python",
   "pygments_lexer": "ipython3",
   "version": "3.9.7"
  }
 },
 "nbformat": 4,
 "nbformat_minor": 5
}
