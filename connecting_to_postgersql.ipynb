{
 "cells": [
  {
   "cell_type": "code",
   "execution_count": 1,
   "id": "410e479c",
   "metadata": {},
   "outputs": [],
   "source": [
    "import psycopg2"
   ]
  },
  {
   "cell_type": "code",
   "execution_count": 2,
   "id": "3d2fd93c",
   "metadata": {},
   "outputs": [],
   "source": [
    "hostname = 'localhost'\n",
    "database = 'demo'\n",
    "username = 'postgres'\n",
    "pwd = 'emr123'\n",
    "port_id = 5432\n",
    "conn = None\n",
    "cur=None"
   ]
  },
  {
   "cell_type": "code",
   "execution_count": 3,
   "id": "2f9abe9a",
   "metadata": {},
   "outputs": [
    {
     "name": "stdout",
     "output_type": "stream",
     "text": [
      "1 Record inserted successfully into symptom table\n",
      "PostgreSQL connection is closed\n"
     ]
    }
   ],
   "source": [
    "import psycopg2\n",
    "\n",
    "try:\n",
    "    connection = psycopg2.connect(host = hostname,\n",
    "                    dbname = database,\n",
    "                    user = username,\n",
    "                    password = pwd,\n",
    "                    port = port_id)\n",
    "    cursor = connection.cursor()\n",
    "    \n",
    "\n",
    "    postgres_insert_query = 'INSERT INTO symptoms (symptoms) VALUES (%s)'\n",
    "    insert_values = [( 'hii')]\n",
    "    #record_to_insert = ('One Plus 6')\n",
    "    \n",
    "    cursor.execute(postgres_insert_query, insert_values)\n",
    "                    \n",
    "#     record_to_insert = ('cold')\n",
    "#     cursor.execute(postgres_insert_query, record_to_insert)\n",
    "\n",
    "    connection.commit()\n",
    "    count = cursor.rowcount\n",
    "    print(count, \"Record inserted successfully into symptom table\")\n",
    "\n",
    "except (Exception, psycopg2.Error) as error:\n",
    "    print(\"Failed to insert record into symtom table\", error)\n",
    "\n",
    "finally:\n",
    "    # closing database connection.\n",
    "    if connection:\n",
    "        cursor.close()\n",
    "        connection.close()\n",
    "        print(\"PostgreSQL connection is closed\")\n"
   ]
  },
  {
   "cell_type": "code",
   "execution_count": 7,
   "id": "1f2db2f4",
   "metadata": {},
   "outputs": [
    {
     "name": "stdout",
     "output_type": "stream",
     "text": [
      "Selecting rows from mobile table using cursor.fetchall\n",
      "Print each row and it's columns values\n",
      "PostgreSQL connection is closed\n"
     ]
    }
   ],
   "source": [
    "import psycopg2\n",
    "symptoms=[]\n",
    "try:\n",
    "    connection = psycopg2.connect(host = hostname,\n",
    "                    dbname = database,\n",
    "                    user = username,\n",
    "                    password = pwd,\n",
    "                    port = port_id)\n",
    "    cursor = connection.cursor()\n",
    "    postgreSQL_select_Query = \"select * from symptoms \"\n",
    "\n",
    "    cursor.execute(postgreSQL_select_Query)\n",
    "    print(\"Selecting rows from mobile table using cursor.fetchall\")\n",
    "    mobile_records = cursor.fetchall()\n",
    "\n",
    "    print(\"Print each row and it's columns values\")\n",
    "    for row in mobile_records:\n",
    "        symptoms.append(row[0])\n",
    "        \n",
    "\n",
    "except (Exception, psycopg2.Error) as error:\n",
    "    print(\"Error while fetching data from PostgreSQL\", error)\n",
    "\n",
    "finally:\n",
    "    # closing database connection.\n",
    "    if connection:\n",
    "        cursor.close()\n",
    "        connection.close()\n",
    "        print(\"PostgreSQL connection is closed\")\n"
   ]
  },
  {
   "cell_type": "code",
   "execution_count": 8,
   "id": "c780f732",
   "metadata": {},
   "outputs": [
    {
     "data": {
      "text/plain": [
       "['fever', 'James', 'cold', 'hii', 'fever cold', 'fever cold']"
      ]
     },
     "execution_count": 8,
     "metadata": {},
     "output_type": "execute_result"
    }
   ],
   "source": [
    "symptoms"
   ]
  },
  {
   "cell_type": "code",
   "execution_count": null,
   "id": "92b97b50",
   "metadata": {},
   "outputs": [],
   "source": []
  }
 ],
 "metadata": {
  "kernelspec": {
   "display_name": "Python 3 (ipykernel)",
   "language": "python",
   "name": "python3"
  },
  "language_info": {
   "codemirror_mode": {
    "name": "ipython",
    "version": 3
   },
   "file_extension": ".py",
   "mimetype": "text/x-python",
   "name": "python",
   "nbconvert_exporter": "python",
   "pygments_lexer": "ipython3",
   "version": "3.9.7"
  }
 },
 "nbformat": 4,
 "nbformat_minor": 5
}
